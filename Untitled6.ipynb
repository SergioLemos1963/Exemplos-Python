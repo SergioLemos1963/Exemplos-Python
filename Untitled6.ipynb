{
  "nbformat": 4,
  "nbformat_minor": 0,
  "metadata": {
    "colab": {
      "name": "Untitled6.ipynb",
      "provenance": [],
      "include_colab_link": true
    },
    "kernelspec": {
      "name": "python3",
      "display_name": "Python 3"
    },
    "language_info": {
      "name": "python"
    }
  },
  "cells": [
    {
      "cell_type": "markdown",
      "metadata": {
        "id": "view-in-github",
        "colab_type": "text"
      },
      "source": [
        "<a href=\"https://colab.research.google.com/github/SergioLemos1963/Exemplos-Python/blob/man/Untitled6.ipynb\" target=\"_parent\"><img src=\"https://colab.research.google.com/assets/colab-badge.svg\" alt=\"Open In Colab\"/></a>"
      ]
    },
    {
      "cell_type": "code",
      "execution_count": null,
      "metadata": {
        "id": "xJDhyg8i8Nou"
      },
      "outputs": [],
      "source": [
        "i = 1\n",
        "\n",
        "while i == 1:\n",
        "\n",
        "    n1 = int(input(\"n1:\"))\n",
        "    n2 = int(input(\"n2:\"))\n",
        "\n",
        "    print(\"OPERAÇÃO\\n\\t1 - Soma\\n\\t2 - Subtração\\n\\t3 - Divisão\\n\\t4 - Multiplicação\")\n",
        "\n",
        "    opera = int(input(\"Operação:\"))\n",
        "\n",
        "    if opera == 1:\n",
        "          result = n1 + n2\n",
        "    elif opera == 2:\n",
        "          result = n1 - n2\n",
        "    elif opera == 3:\n",
        "          if (n1 !=  0 and n2 !=  0):\n",
        "              result = n1 / n2\n",
        "          else:\n",
        "              print(\"Não existe divisão por zero\")\n",
        "    elif opera == 4:\n",
        "          result = n1 * n2\n",
        "\n",
        "    print(result)\n",
        "    \n",
        "    i = int(input(\"Deseja continuar? (1-sim 0-não)\"))"
      ]
    }
  ]
}