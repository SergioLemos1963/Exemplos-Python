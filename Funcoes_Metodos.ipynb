{
  "nbformat": 4,
  "nbformat_minor": 0,
  "metadata": {
    "colab": {
      "name": "Funcoes-Metodos.ipynb",
      "provenance": [],
      "include_colab_link": true
    },
    "kernelspec": {
      "name": "python3",
      "display_name": "Python 3"
    },
    "language_info": {
      "name": "python"
    }
  },
  "cells": [
    {
      "cell_type": "markdown",
      "metadata": {
        "id": "view-in-github",
        "colab_type": "text"
      },
      "source": [
        "<a href=\"https://colab.research.google.com/github/SergioLemos1963/Exemplos-Python/blob/man/Funcoes_Metodos.ipynb\" target=\"_parent\"><img src=\"https://colab.research.google.com/assets/colab-badge.svg\" alt=\"Open In Colab\"/></a>"
      ]
    },
    {
      "cell_type": "markdown",
      "source": [
        "//função sem retorno\n",
        "def <nome-da-função> (<parametro>,<parametro>,<parametro>)\n",
        "  <instruções>\n",
        "\n",
        "//função com retorno\n",
        "def <nome-da-função> (<parametro>,<parametro>,<parametro>)\n",
        "  <instruções>\n",
        "  return <valor>"
      ],
      "metadata": {
        "id": "iPDQ1PuCNCfZ"
      }
    },
    {
      "cell_type": "code",
      "source": [
        "Solicitar 2 notas de um aluno e mostrar a média"
      ],
      "metadata": {
        "id": "82jSeHV0Nrju"
      },
      "execution_count": null,
      "outputs": []
    },
    {
      "cell_type": "code",
      "execution_count": null,
      "metadata": {
        "colab": {
          "base_uri": "https://localhost:8080/"
        },
        "id": "8pCApGWfMO7U",
        "outputId": "ef0f97a4-a219-4f57-d613-1b486bbe877a"
      },
      "outputs": [
        {
          "output_type": "stream",
          "name": "stdout",
          "text": [
            "Informe o nome do alunoTais\n",
            "Nota 1: 9\n",
            "Nota 2: 9\n",
            "Seu nome é Tais e sua média foi de: 9.0\n",
            "Maior item da colecao: 188\n",
            "*** FIM DO PROGRAMA ***\n"
          ]
        }
      ],
      "source": [
        "def fimprograma():\n",
        "  mensagem = \"*** FIM DO PROGRAMA ***\"\n",
        "  return mensagem\n",
        "\n",
        "def mostrarMensagem(nome, media):\n",
        "  print(\"Seu nome é\", nome, \"e sua média foi de:\", media)\n",
        "\n",
        "def media(nota1, nota2):\n",
        "  resposta = (nota1 + nota2)/2\n",
        "  return resposta\n",
        "\n",
        "def colecao(objColecao):\n",
        "  maiorValor = 0\n",
        "  for x in objColecao:\n",
        "    if x > maiorValor:\n",
        "      maiorValor = x\n",
        "  \n",
        "  return maiorValor\n",
        "\n",
        "\n",
        "\n",
        "n = input(\"Informe o nome do aluno\")\n",
        "n1 = float(input(\"Nota 1: \"))\n",
        "n2 = float(input(\"Nota 2: \"))\n",
        "\n",
        "m = media(n1,n2)\n",
        "mostrarMensagem(n,m)\n",
        "\n",
        "print(\"Maior item da colecao:\", colecao([4,75,188,-3,174,1]))\n",
        "\n",
        "msg = fimprograma()\n",
        "print(msg)\n",
        "\n"
      ]
    },
    {
      "cell_type": "markdown",
      "source": [
        "Métodos\n",
        "\n",
        "class <nome-da-classe>\n",
        "  def <nome>\n",
        "    return <valor>"
      ],
      "metadata": {
        "id": "24Eo9w9IRkZu"
      }
    },
    {
      "cell_type": "code",
      "source": [
        "class Alunos:\n",
        "  \n",
        "  def __init__(self, matricula, nome, curso, nota1, nota2, nota3):\n",
        "    self.matricula = matricula\n",
        "    self.curso = curso\n",
        "    self.nome = nome\n",
        "    self.nota1 = nota1\n",
        "    self.nota2 = nota2\n",
        "    self.nota3 = nota3\n",
        "    self.media = 0\n",
        "\n",
        "\n",
        "\n",
        "  def getMatricula(self):\n",
        "    return self.matricula\n",
        "\n",
        "  def getNome(self):\n",
        "    return self.nome\n",
        "\n",
        "  def getCurso(self):\n",
        "    return self.curso\n",
        "\n",
        "  def getNota1(self):\n",
        "    return self.nota1\n",
        "\n",
        "  def getNota2(self):\n",
        "    return self.nota2\n",
        "\n",
        "  def getNota3(self):\n",
        "    return self.nota3\n",
        "\n",
        "  def getMedia(self):\n",
        "    return self.media\n",
        "\n",
        "  def setMatricula(self, matricula):\n",
        "    self.matricula = matricula\n",
        "\n",
        "  def setNome(self, nome):\n",
        "    self.nome = nome\n",
        "\n",
        "  def setCurso(self, curso):\n",
        "    self.curso = curso\n",
        "\n",
        "  def setNota1(self, nota1):\n",
        "    self.Nota1 = nota1\n",
        "\n",
        "  def setNota2(self, nota2):\n",
        "    self.Nota2 = nota2\n",
        "\n",
        "  def setNota3(self, nota3):\n",
        "    self.Nota3 = nota3\n",
        "\n",
        "  def calcMedia(self):\n",
        "    if (self.curso == \"ingles\"):\n",
        "      self.media = (self.nota1 + self.nota2 + self.nota3) / 3\n",
        "    else:\n",
        "      self.media = (self.nota1 + self.nota2 + (2*self.nota3)) / 4\n",
        "\n",
        "aluno1 = Alunos(1, \"Pedro\", \"ingles\", 5.5, 8, 9)\n",
        "aluno2 = Alunos(2, \"Luiza\", \"espanhol\", 9.7, 7.5, 3)\n",
        "aluno3 = Alunos(3, \"Pedro\", \"ingles\", 5.5, 8, 9)\n",
        "aluno4 = Alunos(4, \"Luiza\", \"espanhol\", 9.7, 7.5, 3)\n",
        "\n",
        "aluno1.setNome(\"João Pedro\")\n",
        "\n",
        "aluno1.calcMedia()\n",
        "aluno2.calcMedia()\n",
        "aluno3.calcMedia()\n",
        "aluno4.calcMedia()\n",
        "\n",
        "nome1 = aluno1.getNome()\n",
        "media1 = aluno1.getMedia()\n",
        "\n",
        "print(nome1, \"Média: %.1f\" %media1)\n",
        "\n",
        "nome2 = aluno2.getNome()\n",
        "media2 = aluno2.getMedia()\n",
        "\n",
        "print(nome2, \"Média: %.1f\" %media2)\n",
        "\n",
        "nome3 = aluno3.getNome()\n",
        "media3 = aluno3.getMedia()\n",
        "\n",
        "print(nome3, \"Média: %.1f\" %media3)\n",
        "\n",
        "nome4 = aluno4.getNome()\n",
        "media4 = aluno4.getMedia()\n",
        "\n",
        "print(nome4, \"Média: %.1f\" %media4)\n",
        "    "
      ],
      "metadata": {
        "colab": {
          "base_uri": "https://localhost:8080/"
        },
        "id": "m9jDBCVERk09",
        "outputId": "c77201de-66da-4b53-8bdd-d393f472d628"
      },
      "execution_count": null,
      "outputs": [
        {
          "output_type": "stream",
          "name": "stdout",
          "text": [
            "João Pedro Média: 7.5\n",
            "Luiza Média: 5.8\n",
            "Pedro Média: 7.5\n",
            "Luiza Média: 5.8\n"
          ]
        }
      ]
    },
    {
      "cell_type": "code",
      "source": [
        "class Aluno:\n",
        "    def __init__(self, matricula, nome, curso, av1, av2):\n",
        "        self.matricula = matricula\n",
        "        self.nome = nome\n",
        "        self.curso = curso\n",
        "        self.av1 = av1\n",
        "        self.av2 = av2\n",
        "        self.media = 0\n",
        "        \n",
        "    def getMatricula(self):\n",
        "        return self.matricula\n",
        "    \n",
        "    def setMatricula(self, matricula):\n",
        "        self.matricula = matricula\n",
        "        \n",
        "    def getNome(self):\n",
        "        return self.nome\n",
        "    \n",
        "    def setNome(self, nome):\n",
        "        self.nome = nome\n",
        "        \n",
        "    def getCurso(self):\n",
        "        return self.curso\n",
        "    \n",
        "    def setCurso(self, curso):\n",
        "        self.curso = curso\n",
        "        \n",
        "    def getAV1(self):\n",
        "        return self.av1\n",
        "    \n",
        "    def setAV1(self, av1):\n",
        "        self.av1 = av1\n",
        "        \n",
        "    def getAV2(self):\n",
        "        return self.av2\n",
        "    \n",
        "    def setAV2(self, av2):\n",
        "        self.av2 = av2\n",
        "       \n",
        "    def getMedia(self):\n",
        "        return self.media\n",
        "    \n",
        "    def CalcMedia(self):\n",
        "        self.media = (self.av1 + self.av2)/2\n",
        "        \n",
        "        \n",
        "aluno1 = Aluno(1, \"Pedro\", \"ingles\", 5.5, 8)\n",
        "\n",
        "aluno1.CalcMedia()\n",
        "media1 = aluno1.getMedia()\n",
        "\n",
        "print(\"Média -> \", media1)  "
      ],
      "metadata": {
        "id": "zOR1zn53Wv71",
        "colab": {
          "base_uri": "https://localhost:8080/"
        },
        "outputId": "aaca18b2-4258-4dac-c6df-df7d83d37d4a"
      },
      "execution_count": null,
      "outputs": [
        {
          "output_type": "stream",
          "name": "stdout",
          "text": [
            "Média ->  6.75\n"
          ]
        }
      ]
    }
  ]
}