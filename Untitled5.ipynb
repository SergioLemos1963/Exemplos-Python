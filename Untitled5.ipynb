{
  "nbformat": 4,
  "nbformat_minor": 0,
  "metadata": {
    "colab": {
      "name": "Untitled5.ipynb",
      "provenance": [],
      "include_colab_link": true
    },
    "kernelspec": {
      "name": "python3",
      "display_name": "Python 3"
    },
    "language_info": {
      "name": "python"
    }
  },
  "cells": [
    {
      "cell_type": "markdown",
      "metadata": {
        "id": "view-in-github",
        "colab_type": "text"
      },
      "source": [
        "<a href=\"https://colab.research.google.com/github/SergioLemos1963/Exemplos-Python/blob/man/Untitled5.ipynb\" target=\"_parent\"><img src=\"https://colab.research.google.com/assets/colab-badge.svg\" alt=\"Open In Colab\"/></a>"
      ]
    },
    {
      "cell_type": "code",
      "execution_count": null,
      "metadata": {
        "colab": {
          "base_uri": "https://localhost:8080/"
        },
        "id": "aPlArgUF784E",
        "outputId": "f57e8af8-ef5a-4430-86bc-a26522f82615"
      },
      "outputs": [
        {
          "output_type": "execute_result",
          "data": {
            "text/plain": [
              "<sqlite3.Cursor at 0x7f3ced1287a0>"
            ]
          },
          "metadata": {},
          "execution_count": 1
        }
      ],
      "source": [
        "import sqlite3\n",
        "\n",
        "conexao = sqlite3.connect(\"aluno.db\")\n",
        "\n",
        "sql = \"CREATE TABLE TbAluno (codigo integer primary key autoincrement, \\\n",
        "       nome varchar(40), email TEXT, dataNasc date, ativo bool,\\\n",
        "       semestre int, turma char);\"\n",
        "\n",
        "cursor = conexao.cursor()\n",
        "cursor.execute(sql)"
      ]
    },
    {
      "cell_type": "code",
      "source": [
        "vnome = \"Teste\"\n",
        "vemail = \"teste@gmail.com\"\n",
        "vdataNasc = \"06/08/1980\"\n",
        "vativo = True\n",
        "vsemestre = 1\n",
        "vturma = \"A\"\n",
        "\n",
        "conexao = sqlite3.connect(\"aluno.db\")\n",
        "cursor = conexao.cursor()\n",
        "\n",
        "sql = 'INSERT INTO TbAluno(nome, email, datanasc, ativo, semestre, turma)\\\n",
        "     values (\"%s\",\"%s\",\"%s\",\"%s\",\"%s\",\"%s\")' \\\n",
        "     % (vnome, vemail, vdataNasc, vativo, vsemestre, vturma)                                        \n",
        "\n",
        "cursor.execute(sql)\n",
        "conexao.commit()\n",
        "print(\"Cadastro efetuado com sucesso!!!!\")"
      ],
      "metadata": {
        "id": "scnyTJlxAv9c",
        "outputId": "8ba49e2b-ca83-4fdb-af43-5f57d37aab94",
        "colab": {
          "base_uri": "https://localhost:8080/"
        }
      },
      "execution_count": null,
      "outputs": [
        {
          "output_type": "stream",
          "name": "stdout",
          "text": [
            "Cadastro efetuado com sucesso!!!!\n"
          ]
        }
      ]
    },
    {
      "cell_type": "code",
      "source": [
        "conexao = sqlite3.connect(\"aluno.db\")\n",
        "\n",
        "cursor = conexao.cursor()\n",
        "\n",
        "cursor.execute(\"Select * from TbAluno\")\n",
        "\n",
        "for i in cursor.fetchall():\n",
        "    print(i)"
      ],
      "metadata": {
        "colab": {
          "base_uri": "https://localhost:8080/"
        },
        "id": "CwbEb6GXIWIH",
        "outputId": "a8b3f221-9926-4ff1-a249-63b479213017"
      },
      "execution_count": null,
      "outputs": [
        {
          "output_type": "stream",
          "name": "stdout",
          "text": [
            "(1, 'Erica', 'ericaolsilva@gmail.com', '06/08/1983', 'True', 1, 'A')\n"
          ]
        }
      ]
    }
  ]
}