{
  "nbformat": 4,
  "nbformat_minor": 0,
  "metadata": {
    "colab": {
      "name": "Untitled2.ipynb",
      "provenance": [],
      "authorship_tag": "ABX9TyN4ZDU3ecm4ftOUaeMN6xBW",
      "include_colab_link": true
    },
    "kernelspec": {
      "name": "python3",
      "display_name": "Python 3"
    },
    "language_info": {
      "name": "python"
    }
  },
  "cells": [
    {
      "cell_type": "markdown",
      "metadata": {
        "id": "view-in-github",
        "colab_type": "text"
      },
      "source": [
        "<a href=\"https://colab.research.google.com/github/SergioLemos1963/Exemplos-Python/blob/man/Untitled52.ipynb\" target=\"_parent\"><img src=\"https://colab.research.google.com/assets/colab-badge.svg\" alt=\"Open In Colab\"/></a>"
      ]
    },
    {
      "cell_type": "code",
      "execution_count": 1,
      "metadata": {
        "colab": {
          "base_uri": "https://localhost:8080/"
        },
        "id": "bRBE6O8U1Z5p",
        "outputId": "a87a19ad-1404-4be0-f8d5-b80b33a59a31"
      },
      "outputs": [
        {
          "output_type": "stream",
          "name": "stdout",
          "text": [
            "Insira a quantidade de alunos da classe:5\n",
            "O numero total de alunos é: 5\n",
            "Insira a nota AV1:2\n",
            "insira a nota AV2:5\n",
            "A media é:  3.5\n",
            "Mais um ano com ele\n",
            "Insira a nota AV1:4\n",
            "insira a nota AV2:8\n",
            "A media é:  6.0\n",
            "Aluno aprovado!\n",
            "Insira a nota AV1:9\n",
            "insira a nota AV2:7\n",
            "A media é:  8.0\n",
            "Aluno aprovado!\n",
            "Insira a nota AV1:2\n",
            "insira a nota AV2:1\n",
            "A media é:  1.5\n",
            "Mais um ano com ele\n",
            "Insira a nota AV1:4\n",
            "insira a nota AV2:9\n",
            "A media é:  6.5\n",
            "Aluno aprovado!\n"
          ]
        }
      ],
      "source": [
        "Alunos = int(input(\"Insira a quantidade de alunos da classe:\"))\n",
        "print(\"O numero total de alunos é:\",Alunos)\n",
        "for x in range(Alunos):\n",
        "  Av1 = float(input(\"Insira a nota AV1:\"))\n",
        "  Av2 = float(input(\"insira a nota AV2:\"))\n",
        "  media = (Av1 + Av2)/2\n",
        "\n",
        "  print(\"A media é: \",media)\n",
        "  if (media >= 6):\n",
        "    print(\"Aluno aprovado!\")\n",
        "  if (media < 6):\n",
        "    print(\"Mais um ano com ele\")"
      ]
    }
  ]
}