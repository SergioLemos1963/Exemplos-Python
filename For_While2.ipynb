{
  "nbformat": 4,
  "nbformat_minor": 0,
  "metadata": {
    "colab": {
      "name": "For-While2.ipynb",
      "provenance": [],
      "collapsed_sections": [],
      "include_colab_link": true
    },
    "kernelspec": {
      "name": "python3",
      "display_name": "Python 3"
    },
    "language_info": {
      "name": "python"
    }
  },
  "cells": [
    {
      "cell_type": "markdown",
      "metadata": {
        "id": "view-in-github",
        "colab_type": "text"
      },
      "source": [
        "<a href=\"https://colab.research.google.com/github/SergioLemos1963/Exemplos-Python/blob/man/For_While2.ipynb\" target=\"_parent\"><img src=\"https://colab.research.google.com/assets/colab-badge.svg\" alt=\"Open In Colab\"/></a>"
      ]
    },
    {
      "cell_type": "markdown",
      "source": [
        "laços de repetição\n",
        "\n",
        "for - while\n",
        "\n",
        "WHILE\n",
        "\n",
        "Enquanto <condição>\n",
        "  <comandos>\n",
        "Fim Enquanto\n",
        "\n",
        "\n",
        "mostrar número de 1 - 30"
      ],
      "metadata": {
        "id": "iimB0oODjuaz"
      }
    },
    {
      "cell_type": "code",
      "execution_count": null,
      "metadata": {
        "id": "cKc0GjXFjke9"
      },
      "outputs": [],
      "source": [
        "vconta = 0\n",
        "\n",
        "while vconta <= 30:\n",
        "  print(vconta)\n",
        "  vconta +=5\n",
        "\n",
        "print(\"***** FIM DO PROGRAMA *****\")"
      ]
    },
    {
      "cell_type": "code",
      "source": [
        "num = int(input(\"Digite a tabuada desejada: \"))\n",
        "vconta = 0\n",
        "\n",
        "\n",
        "while vconta <= 10:\n",
        "  print(num, \"*\", vconta, \"=\", num*vconta)\n",
        "  vconta +=1\n",
        "\n",
        "print(\"***** FIM DO PROGRAMA *****\")"
      ],
      "metadata": {
        "id": "hFkvzO7UlSC_"
      },
      "execution_count": null,
      "outputs": []
    },
    {
      "cell_type": "markdown",
      "source": [
        "SORTEAR 3 NUMEROS DIFERENTES E ALEATÓRIOS ENTRE 1 - 10"
      ],
      "metadata": {
        "id": "aPvSmE2bmYB8"
      }
    },
    {
      "cell_type": "code",
      "source": [
        "import random\n",
        "\n",
        "print(\"* * * SORTEANDO 3 NÚMEROS ALEATÓRIOS DE 1 A 10 * * *\")\n",
        "input(\"Pressione ENTER para sortear os números....\")\n",
        "\n",
        "while True:\n",
        "  num1 = random.randint(1, 10)\n",
        "  num2 = random.randint(1, 10)\n",
        "  num3 = random.randint(1, 10)\n",
        "\n",
        "  if (num1 not in (num2, num3) and num2 != num3):\n",
        "    break\n",
        "\n",
        "print(num1)\n",
        "print(num2)\n",
        "print(num3)"
      ],
      "metadata": {
        "id": "CZJnliB-mjz6"
      },
      "execution_count": null,
      "outputs": []
    },
    {
      "cell_type": "markdown",
      "source": [
        "Sortear 1 numero aleatório de 1 - 10\n",
        "Pedir para o usuário adivinhar o número, tendo ele apenas 3 chances de acertar."
      ],
      "metadata": {
        "id": "bO-wJOHcrbM5"
      }
    },
    {
      "cell_type": "code",
      "source": [
        "import random\n",
        "\n",
        "print(\"sorteando 1 numero de 1 a 10 e você terá que advinhar\")\n",
        "input(\"primeira chance: \")\n",
        "input(\"segunda chance: \")\n",
        "input(\"terceira chance: \")\n",
        "\n",
        "while True:\n",
        "  num1 = random.randint(1, 10)\n",
        "\n",
        "  if (num1):\n",
        "    break\n",
        "\n",
        "print(num1)"
      ],
      "metadata": {
        "colab": {
          "base_uri": "https://localhost:8080/"
        },
        "id": "HL6aCLivtyws",
        "outputId": "92fbb608-6894-4cdf-b791-db73961e8e1b"
      },
      "execution_count": null,
      "outputs": [
        {
          "output_type": "stream",
          "name": "stdout",
          "text": [
            "sorteando 1 numero de 1 a 10 e você terá que advinhar\n",
            "primeira chance: 5\n",
            "segunda chance: 3\n",
            "terceira chance: 1\n",
            "4\n"
          ]
        }
      ]
    },
    {
      "cell_type": "code",
      "source": [
        "import random\n",
        "\n",
        "value = random.randint(1, 10)\n",
        "contar = 0\n",
        "guess = 0\n",
        "while guess != value:\n",
        "    contar += 1\n",
        "    guess = input('Adivinhe um número entre 1 e 10: ')\n",
        "    if guess.isnumeric():\n",
        "        guess = int(guess)\n",
        "else:\n",
        "    print(f'Você adivinhou em  {contar} tentativas!')"
      ],
      "metadata": {
        "colab": {
          "base_uri": "https://localhost:8080/"
        },
        "id": "OaKbXUtlvT-K",
        "outputId": "0614bfb1-c937-4b64-a06e-54790305f966"
      },
      "execution_count": null,
      "outputs": [
        {
          "output_type": "stream",
          "name": "stdout",
          "text": [
            "Adivinhe um número entre 1 e 10: 5\n",
            "Adivinhe um número entre 1 e 10: 2\n",
            "Adivinhe um número entre 1 e 10: 3\n",
            "Você adivinhou em  3 tentativas!\n"
          ]
        }
      ]
    },
    {
      "cell_type": "code",
      "source": [
        "from random import randint\n",
        "chances = 0\n",
        "sorteado = randint(1, 10)\n",
        "\n",
        "while chances < 3:\n",
        "    chances += 1\n",
        "    usuario = int(input(f\"{chances}°chance\\nDigite qual numero foi sortado?\\nR:\"))\n",
        "    if(sorteado == usuario):\n",
        "        print(f\"Você acertou!\\n o número sorteado é {sorteado}\")\n",
        "        break\n",
        "    elif(sorteado > usuario):\n",
        "        if(chances == 3):\n",
        "            print(\"Mais sorte na próxima <3>\")\n",
        "        else:\n",
        "            print(\"Tente um número maior !\")\n",
        "    elif(sorteado < usuario):\n",
        "      \n",
        "        if(chances == 3):\n",
        "          print(\"Mais sorte na próxima <3>\")\n",
        "        else:\n",
        "          print(\"Tente um número menor !\")\n"
      ],
      "metadata": {
        "id": "o6SF-DVGvj4b"
      },
      "execution_count": null,
      "outputs": []
    },
    {
      "cell_type": "code",
      "source": [
        "import random\n",
        "sorteado = random.randint(1, 10)\n",
        "print(sorteado)\n",
        "repetir = 1\n",
        "num = int(input (\"qual número foi sorteado?\"))\n",
        "if sorteado == num:\n",
        "   print(\"você acertou\")\n",
        "else:\n",
        "  while repetir != 3:\n",
        "      repetir +=1\n",
        "      num = int(input (\"qual número foi sorteado?\"))\n",
        "      if sorteado == num:\n",
        "          print(\"você acertou\") \n",
        "          break\n",
        "      elif repetir == 3:\n",
        "        print(\"acabou sua chance\")"
      ],
      "metadata": {
        "colab": {
          "base_uri": "https://localhost:8080/"
        },
        "id": "FX7DgvrOy6hM",
        "outputId": "5be2930f-7143-4186-eb23-82e378eb460e"
      },
      "execution_count": null,
      "outputs": [
        {
          "output_type": "stream",
          "name": "stdout",
          "text": [
            "9\n",
            "qual número foi sorteado?5\n",
            "qual número foi sorteado?2\n",
            "qual número foi sorteado?9\n",
            "você acertou\n"
          ]
        }
      ]
    },
    {
      "cell_type": "code",
      "source": [
        "import random\n",
        "\n",
        "a = random.randint(1, 10)\n",
        "\n",
        "tentativa = 3\n",
        "\n",
        "print(a)\n",
        "while tentativa != 0:\n",
        "    num1 = int(input(\"Digite o numero\"))\n",
        "\n",
        "    if num1 == a:\n",
        "        print(\"Acertou\")\n",
        "        break\n",
        "    if num1 < a:\n",
        "        print(\"O seu numero é menor que o sorteado\")\n",
        "        tentativa -=1\n",
        "    elif num1 > a:\n",
        "        print(\"O seu numero é maior que o sorteado\")\n",
        "        tentativa -=1"
      ],
      "metadata": {
        "colab": {
          "base_uri": "https://localhost:8080/"
        },
        "id": "hIEZJAXO2F4U",
        "outputId": "0474115e-a1e3-4358-9b96-9f644a6aa90b"
      },
      "execution_count": null,
      "outputs": [
        {
          "output_type": "stream",
          "name": "stdout",
          "text": [
            "3\n"
          ]
        }
      ]
    }
  ]
}