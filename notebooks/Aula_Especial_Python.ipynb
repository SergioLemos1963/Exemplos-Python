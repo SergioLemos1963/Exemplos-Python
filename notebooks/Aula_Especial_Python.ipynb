{
  "cells": [
    {
      "cell_type": "markdown",
      "metadata": {
        "id": "ZHeMtUMORP3J"
      },
      "source": [
        "[![Binder](https://mybinder.org/badge_logo.svg)](https://mybinder.org/v2/gh/storopoli/ciencia-de-dados/main?filepath=notebooks%2FAula_Especial_Python.ipynb)\n",
        "<br>\n",
        "[![Open In Colab](https://colab.research.google.com/assets/colab-badge.svg)](https://colab.research.google.com/github/storopoli/ciencia-de-dados/blob/main/notebooks/Aula_Especial_Python.ipynb)"
      ]
    },
    {
      "cell_type": "markdown",
      "metadata": {
        "id": "sLyNE0GDRP3R"
      },
      "source": [
        "# Revisão de Python\n",
        "\n",
        "**Objetivos**: Revisar e apresentar Python para estudantes avançados de computação que já possuem lógica de programação e conhecimentos em outras linguagens de programação"
      ]
    },
    {
      "cell_type": "markdown",
      "metadata": {
        "id": "GXPTCqMWRP3S"
      },
      "source": [
        "## Variáveis\n",
        "\n",
        "* Númerica - `int` e `float`\n",
        "* Texto - `str`\n",
        "* Booleana - `bool`"
      ]
    },
    {
      "cell_type": "code",
      "execution_count": null,
      "metadata": {
        "id": "ipG55Wt-RP3U"
      },
      "outputs": [],
      "source": []
    },
    {
      "cell_type": "markdown",
      "metadata": {
        "id": "ON8y7ALwRP3V"
      },
      "source": [
        "### `type` e `len`"
      ]
    },
    {
      "cell_type": "code",
      "execution_count": null,
      "metadata": {
        "id": "z4WkddcoRP3W"
      },
      "outputs": [],
      "source": []
    },
    {
      "cell_type": "markdown",
      "metadata": {
        "id": "qKjB-rCORP3X"
      },
      "source": [
        "## Operadores Aritméticos\n",
        "\n",
        "* Soma `x + y`\n",
        "* Subtração `x - y`\n",
        "* Multiplicação `x * y`\n",
        "* Divisão `x / y`\n",
        "* Divisão desconsiderando a parte fracionária `x // y`\n",
        "* Resto de uma divisão `x % y`\n",
        "* Absoluto `abs(x)`\n",
        "* Converter para Inteiro `int(x)`\n",
        "* Converter para Real `float(x)`\n",
        "* Potência `x ** y`"
      ]
    },
    {
      "cell_type": "code",
      "execution_count": null,
      "metadata": {
        "id": "xCtawyo9RP3Z"
      },
      "outputs": [],
      "source": []
    },
    {
      "cell_type": "markdown",
      "metadata": {
        "id": "0uYYhqf1RP3a"
      },
      "source": [
        "## Operadores Relacionais\n",
        "\n",
        "* Igual a: `x == y`\n",
        "* Maior que: `x > y`\n",
        "* Menor que: `x < y`\n",
        "* Maior ou igual a: `x >= y`\n",
        "* Menor ou igual a: `x <= y`\n",
        "* Diferente de: `x != y`"
      ]
    },
    {
      "cell_type": "code",
      "execution_count": null,
      "metadata": {
        "id": "8J-a6dGDRP3b"
      },
      "outputs": [],
      "source": []
    },
    {
      "cell_type": "markdown",
      "metadata": {
        "id": "CoJ7CCc_RP3c"
      },
      "source": [
        "## Operadores Lógicos (Booleanos)\n",
        "\n",
        "| Operador Lógico | Função    |\n",
        "|-----------------|-----------|\n",
        "| `NOT`           | Negação   |\n",
        "| `AND`           | Conjunção |\n",
        "| `OR`            | União     |"
      ]
    },
    {
      "cell_type": "code",
      "execution_count": null,
      "metadata": {
        "id": "J3tGjWGPRP3d"
      },
      "outputs": [],
      "source": [
        "a = 10\n",
        "b = 10\n",
        "c = -10"
      ]
    },
    {
      "cell_type": "markdown",
      "metadata": {
        "id": "K76pKizGRP3f"
      },
      "source": [
        "## Operadores de Conjuntos \n",
        "\n",
        "| Operador de Conjunto | Função      |\n",
        "|----------------------|-------------|\n",
        "| `&`                  | Intersecção |\n",
        "| `\\|`                 | União       |\n",
        "| `-`                  | Diferença   |"
      ]
    },
    {
      "cell_type": "code",
      "execution_count": null,
      "metadata": {
        "id": "aeic7iReRP3g"
      },
      "outputs": [],
      "source": [
        "A = {0, 2, 4, 6, 8}\n",
        "B = {1, 2, 3, 4, 5}\n"
      ]
    },
    {
      "cell_type": "markdown",
      "metadata": {
        "id": "7SMilQKARP3h"
      },
      "source": [
        "## Lista (`list`)\n",
        "\n",
        "Lista, também como conhecido como *list*, é uma estrutura de dados que possui nenhum, um ou mais itens, que estão ordenados. Os itens são conhecidos também como elementos. Ela é **flexível**, ou seja, podemos adicionar novos itens na lista, podemos alterar itens existentes, podemos remover itens da lista, tudo isto de forma dinâmica.\n",
        "\n",
        "Em Python, uma lista é representada por uma sequencia de itens, separados por vírgula e dentro de colchetes `[]`. Uma lista vazia é representada por colchetes sem nenhuma informação presente entre os colchetes.\n",
        "\n",
        "* Fatiar (`[1:3]`)\n",
        "* Buscar elementos (`[0]`)\n",
        "* Comprimento (`len(list)`)\n",
        "* Adicionar elementos (`list.append()`)\n",
        "* Compreensão de lista (`[x for elemento in lista]`)"
      ]
    },
    {
      "cell_type": "code",
      "execution_count": null,
      "metadata": {
        "id": "uz-VqhjURP3i"
      },
      "outputs": [],
      "source": [
        "lista_vazia = []\n",
        "lista_num = [1, 2, 3, 4, 5, 6]\n",
        "lista_mista = [1, 2, 'UNINOVE', 4, 'com', 6, 'Você', True, None] "
      ]
    },
    {
      "cell_type": "markdown",
      "metadata": {
        "id": "YvG-ZlFQRP3i"
      },
      "source": [
        "### Mutação de itens de uma lista"
      ]
    },
    {
      "cell_type": "code",
      "execution_count": null,
      "metadata": {
        "id": "CXzWZ2NVRP3j"
      },
      "outputs": [],
      "source": []
    },
    {
      "cell_type": "markdown",
      "metadata": {
        "id": "Gq2c1gS1RP3j"
      },
      "source": [
        "### `index`\n",
        "\n",
        "Em Python, os índices começam com zero `[0]`"
      ]
    },
    {
      "cell_type": "code",
      "execution_count": null,
      "metadata": {
        "id": "YEXglfU-RP3k"
      },
      "outputs": [],
      "source": []
    },
    {
      "cell_type": "markdown",
      "metadata": {
        "id": "qCfbDze3RP3k"
      },
      "source": [
        "### `append`"
      ]
    },
    {
      "cell_type": "code",
      "execution_count": null,
      "metadata": {
        "id": "TqXC8HScRP3l"
      },
      "outputs": [],
      "source": []
    },
    {
      "cell_type": "markdown",
      "metadata": {
        "id": "eKYngoKXRP3l"
      },
      "source": [
        "### Compreensão de lista (`list comprehension`)"
      ]
    },
    {
      "cell_type": "code",
      "execution_count": null,
      "metadata": {
        "id": "p70hi1tKRP3m"
      },
      "outputs": [],
      "source": [
        "lista_num = [1, 2, 3, 4, 5, 6]"
      ]
    },
    {
      "cell_type": "markdown",
      "metadata": {
        "id": "KvgfofpsRP3m"
      },
      "source": [
        "## Tuplas(`tuple`)\n",
        "Uma tupla é uma coleção de objetos Python separados por vírgulas. De alguma maneira, uma tupla é semelhante a uma lista em termos de indexação e repetição, mas uma tupla é **imutável**, diferentemente de listas que são **mutáveis**.\n",
        "\n",
        "* Fatiar (`[1:3]`)\n",
        "* Buscar elementos (`[0]`)\n",
        "* Comprimento (`len(tuple)`)"
      ]
    },
    {
      "cell_type": "code",
      "execution_count": null,
      "metadata": {
        "id": "WklETKkkRP3m"
      },
      "outputs": [],
      "source": [
        "tupla_vazia = ()\n",
        "tupla_num = (1, 2, 3, 4, 5, 6)\n",
        "tupla_mista = (1, 2, 'UNINOVE', 4, 'com', 6, 'Você', True, None)"
      ]
    },
    {
      "cell_type": "markdown",
      "metadata": {
        "id": "m23fS0PrRP3n"
      },
      "source": [
        "### Mutação de itens de uma tupla"
      ]
    },
    {
      "cell_type": "code",
      "execution_count": null,
      "metadata": {
        "id": "7etxwUIrRP3n"
      },
      "outputs": [],
      "source": []
    },
    {
      "cell_type": "markdown",
      "metadata": {
        "id": "QTJB_W2gRP3o"
      },
      "source": [
        "## Percentimento em lista e tupla"
      ]
    },
    {
      "cell_type": "code",
      "execution_count": null,
      "metadata": {
        "id": "seHcCCVfRP3o"
      },
      "outputs": [],
      "source": []
    },
    {
      "cell_type": "markdown",
      "metadata": {
        "id": "ax8yj8f6RP3o"
      },
      "source": [
        "## Dicionários (`dictionary`)\n",
        "\n",
        "O dicionário em Python é uma coleção não ordenada de valores de dados, usada para armazenar valores de dados como um mapa, que, diferentemente de outros tipos de dados que mantêm apenas um valor único como elemento, o Dictionary mantém um **par chave: valor**. O valor da chave é fornecido no dicionário para torná-lo mais otimizado.\n",
        "\n",
        "* Chave(`key`)\n",
        "* Valor(`value`)"
      ]
    },
    {
      "cell_type": "code",
      "execution_count": null,
      "metadata": {
        "id": "Sixy3Hd8RP3p"
      },
      "outputs": [],
      "source": [
        "dict_vazio = {}\n",
        "dicionario = {\n",
        "    1: 'UNINOVE',\n",
        "    2: 'com você',\n",
        "    3: 'é 10',\n",
        "    4: 'você está',\n",
        "    5: 'aprendendo Python',\n",
        "    6: 'bem rápido',\n",
        "    'nome da chave': 'valor da chave'\n",
        "}"
      ]
    },
    {
      "cell_type": "markdown",
      "metadata": {
        "id": "m3uSU7YqRP3p"
      },
      "source": [
        "### acessando elementos do dicionário"
      ]
    },
    {
      "cell_type": "code",
      "execution_count": null,
      "metadata": {
        "id": "zBWEgQUMRP3q"
      },
      "outputs": [],
      "source": []
    },
    {
      "cell_type": "markdown",
      "metadata": {
        "id": "jzPwVWFURP3q"
      },
      "source": [
        "### adicionado elementos ao dicionário"
      ]
    },
    {
      "cell_type": "code",
      "execution_count": null,
      "metadata": {
        "id": "ns7TQflPRP3q"
      },
      "outputs": [],
      "source": []
    },
    {
      "cell_type": "markdown",
      "metadata": {
        "id": "w__rUGgFRP3r"
      },
      "source": [
        "### alterando elementos do dicionário\n",
        "\n",
        "* Chaves **não podem** ser alteradas\n",
        "* Valores **podem** ser alterados"
      ]
    },
    {
      "cell_type": "code",
      "execution_count": null,
      "metadata": {
        "id": "6W-tgyXNRP3r"
      },
      "outputs": [],
      "source": []
    },
    {
      "cell_type": "markdown",
      "metadata": {
        "id": "W5fUGFrLRP3r"
      },
      "source": [
        "## Importar bibliotecas (`libraries`)\n",
        "\n",
        "* `import <library>`\n",
        "* `import <library> as xx`\n",
        "* `from <library> import *`\n",
        "* `from <library> import yy`"
      ]
    },
    {
      "cell_type": "code",
      "execution_count": null,
      "metadata": {
        "id": "icFtLm3aRP3s"
      },
      "outputs": [],
      "source": []
    },
    {
      "cell_type": "markdown",
      "metadata": {
        "id": "N1gMKb3xRP3s"
      },
      "source": [
        "## Desvios Condicionais\n",
        "\n",
        "* `if`\n",
        "* `else`\n",
        "* `efif`\n",
        "\n",
        "Uma sequência de testes de seleção, os quais serão executados ou não de acordo com o resultado das condições e de acordo com o encadeamento dos testes."
      ]
    },
    {
      "cell_type": "code",
      "execution_count": null,
      "metadata": {
        "id": "XkPL_S65RP3t"
      },
      "outputs": [],
      "source": [
        "c = 0\n",
        "a = ?"
      ]
    },
    {
      "cell_type": "markdown",
      "metadata": {
        "id": "lbB2PRRYRP3t"
      },
      "source": [
        "## Estrutura de Repetição `while`\n",
        "\n",
        "A estrutura de repetição `while` a condição de repetição é verificada antes de entrar no laço de repetição, isto é, se o resultado for verdadeiro, o bloco de instrução será executado. Enquanto o valor da condição for verdadeiro, as ações dos comandos são executadas. No momento em que a condição se torna falsa, o processamento da rotina é desviado para fora do laço. Se a condição for falsa logo de início, os comandos não são executados nenhuma vez."
      ]
    },
    {
      "cell_type": "code",
      "execution_count": null,
      "metadata": {
        "id": "LXJbAXnYRP3t"
      },
      "outputs": [],
      "source": []
    },
    {
      "cell_type": "markdown",
      "metadata": {
        "id": "ch_zPpV1RP3u"
      },
      "source": [
        "## Estrutura de Repetição `for`\n",
        "\n",
        "Com a estrutura de repetição `for` podemos executar um determinado conjunto de instruções certo número de vezes. Além disso, este tipo de estrutura prevê uma condição e limites fixos.\n",
        "\n",
        "A estrutura for é utilizada quando precisamos repetir um conjunto de comandos um número pré-definido de vezes."
      ]
    },
    {
      "cell_type": "code",
      "execution_count": null,
      "metadata": {
        "id": "M6fdIGq5RP3u"
      },
      "outputs": [],
      "source": []
    },
    {
      "cell_type": "markdown",
      "metadata": {
        "id": "MhaJUljVRP3u"
      },
      "source": [
        "### `for` em dicionários\n",
        "\n",
        "```python\n",
        "for key,value in dicionario.items():\n",
        "    print(key, value)\n",
        "```"
      ]
    },
    {
      "cell_type": "code",
      "execution_count": null,
      "metadata": {
        "id": "525fgw45RP3u"
      },
      "outputs": [],
      "source": []
    },
    {
      "cell_type": "markdown",
      "metadata": {
        "id": "Y4nnderlRP3v"
      },
      "source": [
        "## Funções em Python (`function`)\n",
        "\n",
        "Podem ter argumentos ou não."
      ]
    },
    {
      "cell_type": "code",
      "execution_count": null,
      "metadata": {
        "id": "QZNFmaIuRP3v"
      },
      "outputs": [],
      "source": []
    },
    {
      "cell_type": "markdown",
      "metadata": {
        "id": "NQpYQ82JRP3v"
      },
      "source": [
        "## Métodos em Python (`method`)\n",
        "\n",
        "Método é uma função de um objeto tipo `class` em Python"
      ]
    },
    {
      "cell_type": "code",
      "execution_count": null,
      "metadata": {
        "id": "Y-SSg8B2RP3w"
      },
      "outputs": [],
      "source": []
    },
    {
      "cell_type": "markdown",
      "metadata": {
        "id": "JMREaLL4RP3w"
      },
      "source": [
        "### métodos em bibliotecas\n",
        "\n",
        "Muitas coisas que importamos são `class` de bibliotecas.\n",
        "\n",
        "* Exemplo: `pd.DataFrame` ou `pd.Series`"
      ]
    },
    {
      "cell_type": "markdown",
      "metadata": {
        "id": "ZHI0_dC3RP3w"
      },
      "source": [
        "## `NumPy` - Arrays"
      ]
    },
    {
      "cell_type": "code",
      "execution_count": null,
      "metadata": {
        "id": "ScOs0TmNRP3x"
      },
      "outputs": [],
      "source": [
        "import numpy as np"
      ]
    },
    {
      "cell_type": "markdown",
      "metadata": {
        "id": "gQV_SA8CRP3x"
      },
      "source": [
        "### Arrays 1-D (vetores)\n",
        "\n",
        "### Arrays 2-D (matrizes)\n",
        "\n",
        "### Arrays N-D (tensores)"
      ]
    },
    {
      "cell_type": "code",
      "execution_count": null,
      "metadata": {
        "id": "ENVabAVGRP3x"
      },
      "outputs": [],
      "source": []
    },
    {
      "cell_type": "markdown",
      "metadata": {
        "id": "JHrL-8SmRP3x"
      },
      "source": [
        "### multiplicação de matriz (`np.dot`)"
      ]
    },
    {
      "cell_type": "code",
      "execution_count": null,
      "metadata": {
        "id": "9biaPcP3RP3y"
      },
      "outputs": [],
      "source": []
    },
    {
      "cell_type": "markdown",
      "metadata": {
        "id": "5jdUSq1DRP3y"
      },
      "source": [
        "### dimensões de arrays (`array.shape`)\n",
        "\n",
        "retorna uma tupla"
      ]
    },
    {
      "cell_type": "code",
      "execution_count": null,
      "metadata": {
        "id": "_lVxe9mmRP3y"
      },
      "outputs": [],
      "source": []
    },
    {
      "cell_type": "markdown",
      "metadata": {
        "id": "NNx07IUERP3y"
      },
      "source": [
        "### fatiando e indexando arrays 2-D"
      ]
    },
    {
      "cell_type": "code",
      "execution_count": null,
      "metadata": {
        "id": "gtphY7wIRP3z"
      },
      "outputs": [],
      "source": []
    },
    {
      "cell_type": "markdown",
      "metadata": {
        "id": "2u4pkNg2RP3z"
      },
      "source": [
        "### transposição de array"
      ]
    },
    {
      "cell_type": "code",
      "execution_count": null,
      "metadata": {
        "id": "ZO1i5gMfRP3z"
      },
      "outputs": [],
      "source": []
    },
    {
      "cell_type": "markdown",
      "metadata": {
        "id": "Ig3c5jOlRP30"
      },
      "source": [
        "### criando arrays intervalares\n",
        "\n",
        "* `np.arange()` - valores espaçados uniformemente dentro de um determinado intervalo.\n",
        "* `np.linspace()` - números espaçados uniformemente em um intervalo especificado.\n",
        "\n",
        "Muito usadas em `for` loops"
      ]
    },
    {
      "cell_type": "code",
      "execution_count": null,
      "metadata": {
        "id": "jwi1eGSnRP30"
      },
      "outputs": [],
      "source": []
    }
  ],
  "metadata": {
    "celltoolbar": "Slideshow",
    "kernelspec": {
      "display_name": "Python [conda env:root] *",
      "language": "python",
      "name": "conda-root-py"
    },
    "language_info": {
      "codemirror_mode": {
        "name": "ipython",
        "version": 3
      },
      "file_extension": ".py",
      "mimetype": "text/x-python",
      "name": "python",
      "nbconvert_exporter": "python",
      "pygments_lexer": "ipython3",
      "version": "3.9.2"
    },
    "rise": {
      "autolaunch": true,
      "enable_chalkboard": true,
      "progress": true,
      "scroll": true,
      "slideNumber": true,
      "theme": "black"
    },
    "colab": {
      "provenance": []
    }
  },
  "nbformat": 4,
  "nbformat_minor": 0
}